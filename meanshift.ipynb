{
 "cells": [
  {
   "cell_type": "code",
   "execution_count": 2,
   "metadata": {},
   "outputs": [
    {
     "name": "stdout",
     "output_type": "stream",
     "text": [
      "  competitorname  chocolate  fruity  caramel  peanutyalmondy  nougat  \\\n",
      "0      100 Grand          1       0        1               0       0   \n",
      "1   3 Musketeers          1       0        0               0       1   \n",
      "2       One dime          0       0        0               0       0   \n",
      "3    One quarter          0       0        0               0       0   \n",
      "4      Air Heads          0       1        0               0       0   \n",
      "5     Almond Joy          1       0        0               1       0   \n",
      "\n",
      "   crispedricewafer  hard  bar  pluribus  sugarpercent  pricepercent  \\\n",
      "0                 1     0    1         0         0.732         0.860   \n",
      "1                 0     0    1         0         0.604         0.511   \n",
      "2                 0     0    0         0         0.011         0.116   \n",
      "3                 0     0    0         0         0.011         0.511   \n",
      "4                 0     0    0         0         0.906         0.511   \n",
      "5                 0     0    1         0         0.465         0.767   \n",
      "\n",
      "   winpercent  \n",
      "0   66.971725  \n",
      "1   67.602936  \n",
      "2   32.261086  \n",
      "3   46.116505  \n",
      "4   52.341465  \n",
      "5   50.347546  \n"
     ]
    }
   ],
   "source": [
    "import pandas as pd\n",
    "\n",
    "from sklearn.cluster import MeanShift\n",
    "\n",
    "if __name__ == '__main__':\n",
    "\n",
    "    dataset = pd.read_csv('./data/candy.csv')\n",
    "\n",
    "    print(dataset.head(6))"
   ]
  },
  {
   "cell_type": "code",
   "execution_count": 12,
   "metadata": {},
   "outputs": [
    {
     "name": "stdout",
     "output_type": "stream",
     "text": [
      "[2 2 0 0 1 1 1 0 0 0 0 0 0 0 0 0 0 0 1 0 1 0 1 2 1 2 0 1 2 0 0 1 2 2 0 1 2\n",
      " 2 2 1 1 1 2 2 0 0 0 2 0 0 0 2 2 2 2 0 2 0 0 0 2 1 0 0 2 2 2 1 2 0 0 0 0 1\n",
      " 1 0 0 1 1 2 0 0 0 0 1]\n",
      "================================================================\n",
      "[[2.56410256e-01 5.89743590e-01 7.69230769e-02 5.12820513e-02\n",
      "  5.12820513e-02 2.56410256e-02 3.07692308e-01 1.28205128e-01\n",
      "  5.64102564e-01 4.70256402e-01 3.85615382e-01 4.17339475e+01\n",
      "  1.79487179e-01]\n",
      " [4.68750000e-01 5.00000000e-01 1.25000000e-01 1.56250000e-01\n",
      "  9.37500000e-02 6.25000000e-02 1.25000000e-01 3.12500000e-01\n",
      "  5.31250000e-01 4.57281243e-01 4.67874998e-01 5.21138597e+01\n",
      "  9.06250000e-01]\n",
      " [8.26086957e-01 1.73913043e-01 3.04347826e-01 3.04347826e-01\n",
      "  1.73913043e-01 1.73913043e-01 0.00000000e+00 5.21739130e-01\n",
      "  4.34782609e-01 5.81391293e-01 6.38086963e-01 6.47120799e+01\n",
      "  1.82608696e+00]]\n",
      "================================================================\n",
      "                competitorname  chocolate  fruity  caramel  peanutyalmondy  \\\n",
      "0                    100 Grand          1       0        1               0   \n",
      "1                 3 Musketeers          1       0        0               0   \n",
      "2                     One dime          0       0        0               0   \n",
      "3                  One quarter          0       0        0               0   \n",
      "4                    Air Heads          0       1        0               0   \n",
      "..                         ...        ...     ...      ...             ...   \n",
      "80                   Twizzlers          0       1        0               0   \n",
      "81                    Warheads          0       1        0               0   \n",
      "82        WelchÕs Fruit Snacks          0       1        0               0   \n",
      "83  WertherÕs Original Caramel          0       0        1               0   \n",
      "84                    Whoppers          1       0        0               0   \n",
      "\n",
      "    nougat  crispedricewafer  hard  bar  pluribus  sugarpercent  pricepercent  \\\n",
      "0        0                 1     0    1         0         0.732         0.860   \n",
      "1        1                 0     0    1         0         0.604         0.511   \n",
      "2        0                 0     0    0         0         0.011         0.116   \n",
      "3        0                 0     0    0         0         0.011         0.511   \n",
      "4        0                 0     0    0         0         0.906         0.511   \n",
      "..     ...               ...   ...  ...       ...           ...           ...   \n",
      "80       0                 0     0    0         0         0.220         0.116   \n",
      "81       0                 0     1    0         0         0.093         0.116   \n",
      "82       0                 0     0    0         1         0.313         0.313   \n",
      "83       0                 0     1    0         0         0.186         0.267   \n",
      "84       0                 1     0    0         1         0.872         0.848   \n",
      "\n",
      "    winpercent  meanshift  \n",
      "0    66.971725          2  \n",
      "1    67.602936          2  \n",
      "2    32.261086          0  \n",
      "3    46.116505          0  \n",
      "4    52.341465          1  \n",
      "..         ...        ...  \n",
      "80   45.466282          0  \n",
      "81   39.011898          0  \n",
      "82   44.375519          0  \n",
      "83   41.904308          0  \n",
      "84   49.524113          1  \n",
      "\n",
      "[85 rows x 14 columns]\n"
     ]
    }
   ],
   "source": [
    "#Eliminamos la columna de los nombres porque es categórica y no se puede entrenar\n",
    "\n",
    "X = dataset.drop('competitorname', axis = 1)\n",
    "\n",
    "meanshift = MeanShift().fit(X)\n",
    "print(meanshift.labels_)\n",
    "print(\"=\"*64)\n",
    "print(meanshift.cluster_centers_)\n",
    "\n",
    "dataset['meanshift'] = meanshift.labels_\n",
    "print(\"=\"*64)\n",
    "print(dataset)"
   ]
  },
  {
   "attachments": {},
   "cell_type": "markdown",
   "metadata": {},
   "source": [
    "Tenemos 3 etiquetas "
   ]
  },
  {
   "cell_type": "code",
   "execution_count": null,
   "metadata": {},
   "outputs": [],
   "source": []
  }
 ],
 "metadata": {
  "kernelspec": {
   "display_name": "entorno",
   "language": "python",
   "name": "python3"
  },
  "language_info": {
   "codemirror_mode": {
    "name": "ipython",
    "version": 3
   },
   "file_extension": ".py",
   "mimetype": "text/x-python",
   "name": "python",
   "nbconvert_exporter": "python",
   "pygments_lexer": "ipython3",
   "version": "3.9.12"
  },
  "orig_nbformat": 4,
  "vscode": {
   "interpreter": {
    "hash": "e527c03d49c291424015c6d7e8fd4bc009cf0fb2c252a907ad3b578920ef556b"
   }
  }
 },
 "nbformat": 4,
 "nbformat_minor": 2
}
