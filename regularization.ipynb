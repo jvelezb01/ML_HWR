{
 "cells": [
  {
   "cell_type": "code",
   "execution_count": 15,
   "metadata": {},
   "outputs": [
    {
     "name": "stdout",
     "output_type": "stream",
     "text": [
      "             rank       score        high         low         gdp      family  \\\n",
      "count  155.000000  155.000000  155.000000  155.000000  155.000000  155.000000   \n",
      "mean    78.000000    5.354019    5.452326    5.255713    0.984718    1.188898   \n",
      "std     44.888751    1.131230    1.118542    1.145030    0.420793    0.287263   \n",
      "min      1.000000    2.693000    2.864884    2.521116    0.000000    0.000000   \n",
      "25%     39.500000    4.505500    4.608172    4.374955    0.663371    1.042635   \n",
      "50%     78.000000    5.279000    5.370032    5.193152    1.064578    1.253918   \n",
      "75%    116.500000    6.101500    6.194600    6.006527    1.318027    1.414316   \n",
      "max    155.000000    7.537000    7.622030    7.479556    1.870766    1.610574   \n",
      "\n",
      "           lifexp     freedom  generosity  corruption    dystopia  \n",
      "count  155.000000  155.000000  155.000000  155.000000  155.000000  \n",
      "mean     0.551341    0.408786    0.246883    0.123120    1.850238  \n",
      "std      0.237073    0.149997    0.134780    0.101661    0.500028  \n",
      "min      0.000000    0.000000    0.000000    0.000000    0.377914  \n",
      "25%      0.369866    0.303677    0.154106    0.057271    1.591291  \n",
      "50%      0.606042    0.437454    0.231538    0.089848    1.832910  \n",
      "75%      0.723008    0.516561    0.323762    0.153296    2.144654  \n",
      "max      0.949492    0.658249    0.838075    0.464308    3.117485  \n"
     ]
    }
   ],
   "source": [
    "#TÉCNICAS DE REGULARIZACIÓN: IMPLEMENTACIÓN DE LASSO Y RIDGE\n",
    "\n",
    "import pandas as pd\n",
    "import sklearn\n",
    "\n",
    "from sklearn.linear_model import LinearRegression\n",
    "from sklearn.linear_model import Lasso\n",
    "from sklearn.linear_model import Ridge\n",
    "\n",
    "from sklearn.model_selection import train_test_split\n",
    "from sklearn.metrics import mean_squared_error\n",
    "\n",
    "if __name__ == \"__main__\":\n",
    "    dataset = pd.read_csv('./data/whr2017.csv')\n",
    "    print(dataset.describe())\n",
    "\n",
    "    "
   ]
  },
  {
   "cell_type": "code",
   "execution_count": 16,
   "metadata": {},
   "outputs": [
    {
     "name": "stdout",
     "output_type": "stream",
     "text": [
      "(155, 7)\n",
      "(155, 1)\n"
     ]
    }
   ],
   "source": [
    "#definimos features\n",
    "\n",
    "X = dataset[['gdp', 'family', 'lifexp', 'freedom' , 'corruption' , 'generosity', 'dystopia']]\n",
    "y = dataset[['score']]\n",
    "\n",
    "print(X.shape)\n",
    "print(y.shape) "
   ]
  },
  {
   "cell_type": "code",
   "execution_count": 17,
   "metadata": {},
   "outputs": [],
   "source": [
    "##dividimos nuestro entrenamiento en train & test con la función 'train_test_split'\n",
    "#test_size = 25% de nuestros datos para test y 75% para train\n",
    "\n",
    "X_train, X_test, y_train, y_test = train_test_split(X,y, test_size=0.25)"
   ]
  },
  {
   "cell_type": "code",
   "execution_count": 19,
   "metadata": {},
   "outputs": [],
   "source": [
    "#definimos nuestros regresores:\n",
    "\n",
    "#lineal:\n",
    "\n",
    "modelLinear = LinearRegression().fit(X_train, y_train) #prueba sin ningún parámetro adicional \n",
    "y_predict_linear = modelLinear.predict(X_test) #calcular predicción del modelo con los datos de test\n",
    "\n",
    "#Regresion Lasso\n",
    "\n",
    "modelLasso = Lasso(alpha=0.02).fit(X_train, y_train) #entre más grande sea el lambda va a tener más penalización\n",
    "y_predict_lasso = modelLasso.predict(X_test)\n",
    "\n",
    "#Regresion Ridge\n",
    "modelRidge = Ridge(alpha=1).fit(X_train,y_train)\n",
    "y_predict_ridge = modelRidge.predict(X_test)\n",
    "\n",
    "\n"
   ]
  },
  {
   "attachments": {},
   "cell_type": "markdown",
   "metadata": {},
   "source": [
    "Para lo anterior decidimos calcular nuestra métrica teniendo en cuenta el error medio cuadrático"
   ]
  },
  {
   "cell_type": "code",
   "execution_count": 25,
   "metadata": {},
   "outputs": [
    {
     "name": "stdout",
     "output_type": "stream",
     "text": [
      "Linear Loss:  8.80249972193662e-08\n",
      "Lasso Loss:  0.05784036918690596\n",
      "Ridge Loss:  0.006096824211146053\n",
      "================================\n",
      "Linear Loss: 0.0000000880\n",
      "Lasso Loss: 0.0578403692\n",
      "Ridge Loss: 0.0060968242\n",
      "================================\n",
      "Coef LASSO\n",
      "[1.40382153 0.93914166 0.35698611 0.45720875 0.         0.42901222\n",
      " 0.92419583]\n",
      "================================\n",
      "Coef RIDGE\n",
      "[[1.09748593 0.96752741 0.8421945  0.83731521 0.63644262 0.79344748\n",
      "  0.96709301]]\n"
     ]
    }
   ],
   "source": [
    "#Visualizamos pérdidas para cada uno de los modelos\n",
    "\n",
    "#Linear\n",
    "\n",
    "linear_loss = mean_squared_error(y_test, y_predict_linear)\n",
    "print(\"Linear Loss: \", linear_loss)\n",
    "\n",
    "#Lasso\n",
    "\n",
    "lasso_loss = mean_squared_error(y_test, y_predict_lasso)\n",
    "print(\"Lasso Loss: \", lasso_loss)\n",
    "\n",
    "#Ridge\n",
    "\n",
    "ridge_loss = mean_squared_error(y_test, y_predict_ridge)\n",
    "print(\"Ridge Loss: \", ridge_loss)\n",
    "\n",
    "print(\"=\"*32)\n",
    "print(\"Linear Loss:\", \"%.10f\" % float(linear_loss))\n",
    "print(\"Lasso Loss:\",\"%.10f\" % float(lasso_loss))\n",
    "print(\"Ridge Loss:\", \"%.10f\" % float(ridge_loss))\n",
    "\n",
    "#veremos como afecta a cada una de las variables las regresiones\n",
    "\n",
    "print('='*32)\n",
    "print(\"Coef LASSO\")\n",
    "print(modelLasso.coef_)\n",
    "\n",
    "print('='*32)\n",
    "print(\"Coef RIDGE\")\n",
    "print(modelRidge.coef_)\n"
   ]
  },
  {
   "attachments": {},
   "cell_type": "markdown",
   "metadata": {},
   "source": []
  },
  {
   "cell_type": "code",
   "execution_count": null,
   "metadata": {},
   "outputs": [],
   "source": []
  }
 ],
 "metadata": {
  "kernelspec": {
   "display_name": "entorno",
   "language": "python",
   "name": "python3"
  },
  "language_info": {
   "codemirror_mode": {
    "name": "ipython",
    "version": 3
   },
   "file_extension": ".py",
   "mimetype": "text/x-python",
   "name": "python",
   "nbconvert_exporter": "python",
   "pygments_lexer": "ipython3",
   "version": "3.9.12 (main, Apr  5 2022, 01:52:34) \n[Clang 12.0.0 ]"
  },
  "orig_nbformat": 4,
  "vscode": {
   "interpreter": {
    "hash": "e527c03d49c291424015c6d7e8fd4bc009cf0fb2c252a907ad3b578920ef556b"
   }
  }
 },
 "nbformat": 4,
 "nbformat_minor": 2
}
