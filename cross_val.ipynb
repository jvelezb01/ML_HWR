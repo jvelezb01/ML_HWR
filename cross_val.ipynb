{
 "cells": [
  {
   "cell_type": "code",
   "execution_count": 15,
   "metadata": {},
   "outputs": [
    {
     "name": "stdout",
     "output_type": "stream",
     "text": [
      "       country  rank  score      high       low       gdp    family    lifexp  \\\n",
      "0       Norway     1  7.537  7.594445  7.479556  1.616463  1.533524  0.796667   \n",
      "1      Denmark     2  7.522  7.581728  7.462272  1.482383  1.551122  0.792566   \n",
      "2      Iceland     3  7.504  7.622030  7.385970  1.480633  1.610574  0.833552   \n",
      "3  Switzerland     4  7.494  7.561772  7.426227  1.564980  1.516912  0.858131   \n",
      "4      Finland     5  7.469  7.527542  7.410458  1.443572  1.540247  0.809158   \n",
      "\n",
      "    freedom  generosity  corruption  dystopia  \n",
      "0  0.635423    0.362012    0.315964  2.277027  \n",
      "1  0.626007    0.355280    0.400770  2.313707  \n",
      "2  0.627163    0.475540    0.153527  2.322715  \n",
      "3  0.620071    0.290549    0.367007  2.276716  \n",
      "4  0.617951    0.245483    0.382612  2.430182  \n",
      "[-0.84508789 -0.158195   -0.73699126]\n",
      "0.5800913849686168\n",
      "[  0   1   2   3   4   5   6   7   8  10  13  14  16  17  20  21  23  25\n",
      "  28  32  33  34  35  37  38  39  40  41  43  44  46  47  48  49  50  52\n",
      "  53  54  57  58  59  61  62  63  64  67  70  71  72  73  74  77  80  83\n",
      "  87  88  89  91  92  94  97  98  99 100 101 102 103 104 105 106 107 108\n",
      " 110 111 112 113 114 115 116 120 121 123 125 127 128 129 130 132 134 135\n",
      " 136 139 140 143 144 145 146 148 149 150 151 152 154]\n",
      "[  9  11  12  15  18  19  22  24  26  27  29  30  31  36  42  45  51  55\n",
      "  56  60  65  66  68  69  75  76  78  79  81  82  84  85  86  90  93  95\n",
      "  96 109 117 118 119 122 124 126 131 133 137 138 141 142 147 153]\n",
      "[  1   2   3   6   8   9  11  12  13  14  15  17  18  19  20  21  22  24\n",
      "  26  27  29  30  31  36  37  38  42  45  48  50  51  52  54  55  56  57\n",
      "  58  59  60  63  65  66  68  69  71  72  74  75  76  78  79  81  82  83\n",
      "  84  85  86  87  88  89  90  91  92  93  95  96  99 100 102 103 106 107\n",
      " 109 112 115 116 117 118 119 120 121 122 124 126 128 129 130 131 132 133\n",
      " 135 137 138 139 140 141 142 145 147 149 152 153 154]\n",
      "[  0   4   5   7  10  16  23  25  28  32  33  34  35  39  40  41  43  44\n",
      "  46  47  49  53  61  62  64  67  70  73  77  80  94  97  98 101 104 105\n",
      " 108 110 111 113 114 123 125 127 134 136 143 144 146 148 150 151]\n",
      "[  0   4   5   7   9  10  11  12  15  16  18  19  22  23  24  25  26  27\n",
      "  28  29  30  31  32  33  34  35  36  39  40  41  42  43  44  45  46  47\n",
      "  49  51  53  55  56  60  61  62  64  65  66  67  68  69  70  73  75  76\n",
      "  77  78  79  80  81  82  84  85  86  90  93  94  95  96  97  98 101 104\n",
      " 105 108 109 110 111 113 114 117 118 119 122 123 124 125 126 127 131 133\n",
      " 134 136 137 138 141 142 143 144 146 147 148 150 151 153]\n",
      "[  1   2   3   6   8  13  14  17  20  21  37  38  48  50  52  54  57  58\n",
      "  59  63  71  72  74  83  87  88  89  91  92  99 100 102 103 106 107 112\n",
      " 115 116 120 121 128 129 130 132 135 139 140 145 149 152 154]\n",
      "================================================================\n",
      "Los tres MSE fueron:  [0.006525193236310853, 0.004301132592449627, 0.0042106817727033145]\n",
      "El MSE promedio fue:  0.005012335867154598\n"
     ]
    }
   ],
   "source": [
    "import pandas as pd\n",
    "import numpy as np\n",
    "\n",
    "from sklearn.tree import DecisionTreeRegressor\n",
    "from sklearn.metrics import mean_squared_error\n",
    "\n",
    "from sklearn.model_selection import (\n",
    "    cross_val_score, KFold\n",
    ")\n",
    "\n",
    "if __name__ == \"__main__\":\n",
    "\n",
    "    dataset= pd.read_csv('./data/whr2017.csv')\n",
    "    print(dataset.head(5))\n",
    "\n",
    "    X = dataset.drop(['country', 'score'], axis = 1)\n",
    "    y = dataset['score'] \n",
    "\n",
    "    model = DecisionTreeRegressor()\n",
    "    score = cross_val_score(model, X,y, cv=3, scoring='neg_mean_squared_error') # con cv podemos controlar el numOfFolds\n",
    "    print(score)\n",
    "    print(np.abs(np.mean(score)))\n",
    "\n",
    "    kf = KFold(n_splits=3, shuffle=True, random_state=42)\n",
    "    mse_values = []\n",
    "\n",
    "    for train, test in kf.split(dataset):\n",
    "        print(train)\n",
    "        print(test)\n",
    "\n",
    "        X_train = X.iloc[train]\n",
    "        y_train = y.iloc[train]\n",
    "        X_test = X.iloc[test]\n",
    "        y_test = y.iloc[test]\n",
    "\n",
    "\n",
    "        model = DecisionTreeRegressor().fit(X_train, y_train)\n",
    "        predict = model.predict(X_test)\n",
    "        mse_values.append(mean_squared_error(y_test, predict))\n",
    "\n",
    "    print(\"=\"*64)\n",
    "    print(\"Los tres MSE fueron: \", mse_values)\n",
    "    print(\"El MSE promedio fue: \", np.mean(mse_values))"
   ]
  }
 ],
 "metadata": {
  "kernelspec": {
   "display_name": "entorno",
   "language": "python",
   "name": "python3"
  },
  "language_info": {
   "codemirror_mode": {
    "name": "ipython",
    "version": 3
   },
   "file_extension": ".py",
   "mimetype": "text/x-python",
   "name": "python",
   "nbconvert_exporter": "python",
   "pygments_lexer": "ipython3",
   "version": "3.9.12"
  },
  "orig_nbformat": 4,
  "vscode": {
   "interpreter": {
    "hash": "e527c03d49c291424015c6d7e8fd4bc009cf0fb2c252a907ad3b578920ef556b"
   }
  }
 },
 "nbformat": 4,
 "nbformat_minor": 2
}
