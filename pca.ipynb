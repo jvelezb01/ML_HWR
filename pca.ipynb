{
 "cells": [
  {
   "cell_type": "code",
   "execution_count": 3,
   "metadata": {},
   "outputs": [
    {
     "name": "stdout",
     "output_type": "stream",
     "text": [
      "   age  sex  cp  trestbps  chol  fbs  restecg  thalach  exang  oldpeak  slope  \\\n",
      "0   52    1   0       125   212    0        1      168      0      1.0      2   \n",
      "1   53    1   0       140   203    1        0      155      1      3.1      0   \n",
      "2   70    1   0       145   174    0        1      125      1      2.6      0   \n",
      "3   61    1   0       148   203    0        1      161      0      0.0      2   \n",
      "4   62    0   0       138   294    1        1      106      0      1.9      1   \n",
      "\n",
      "   ca  thal  target  \n",
      "0   2     3       0  \n",
      "1   0     3       0  \n",
      "2   0     3       0  \n",
      "3   1     3       0  \n",
      "4   3     2       0  \n"
     ]
    }
   ],
   "source": [
    "#importamos las librerías\n",
    "import pandas as pd\n",
    "import sklearn\n",
    "import matplotlib.pyplot as plt\n",
    "\n",
    "\n",
    "#importamos módulos específicos\n",
    "from sklearn.decomposition import PCA ##algoritmo PCA\n",
    "from sklearn.decomposition import IncrementalPCA \n",
    "\n",
    "\n",
    "#clasificador para hacer comparación de regresión logística\n",
    "\n",
    "from sklearn.linear_model import LogisticRegression\n",
    "\n",
    "from sklearn.preprocessing import StandardScaler ##escalador para normalizar los datos y dejarlos en la escala de 0 y 1\n",
    "\n",
    "from sklearn.model_selection import train_test_split\n",
    "\n",
    "if __name__ == \"__main__\":\n",
    "    dt_heart = pd.read_csv('./data/heart.csv')\n",
    "\n",
    "    print(dt_heart.head(5))\n",
    "\n",
    "    dt_features = dt_heart.drop(['target'], axis = 1) ## Sin la columna target para clasificar de última\n",
    "    dt_target = dt_heart['target']\n",
    "\n",
    "    dt_features = StandardScaler().fit_transform(dt_features) ##carga los datos y ajusta el modelo y aplica la transformación \n",
    "\n",
    "    X_train, X_test, y_train, y_test = train_test_split(dt_features, dt_target, test_size=0.3, random_state=42)"
   ]
  },
  {
   "cell_type": "code",
   "execution_count": 5,
   "metadata": {},
   "outputs": [
    {
     "name": "stdout",
     "output_type": "stream",
     "text": [
      "(717, 13)\n",
      "(717,)\n"
     ]
    }
   ],
   "source": [
    "#validar que nuestros datos estén bien partidos, consultaremos la forma que tienen nuestros datos con el parámetro \".shape\"\n",
    "\n",
    "print(X_train.shape)\n",
    "print(y_train.shape)"
   ]
  },
  {
   "attachments": {},
   "cell_type": "markdown",
   "metadata": {},
   "source": [
    "Los datos de nuestro target, solo tiene una columna con el valor binario haciendo referencia si hay presencia de enfermedad cardiaca o no"
   ]
  },
  {
   "cell_type": "code",
   "execution_count": 7,
   "metadata": {},
   "outputs": [
    {
     "data": {
      "image/png": "[encoded data removed]",
      "text/plain": [
       "<Figure size 640x480 with 1 Axes>"
      ]
     },
     "metadata": {},
     "output_type": "display_data"
    }
   ],
   "source": [
    "#configurar nuestro algoritmo PCA\n",
    "#por defecto nuestro numero de componentes:\n",
    "#n_componentes = min(n_muestras, n_features)\n",
    "pca = PCA(n_components=3)\n",
    "pca.fit(X_train) #para ajustar a los datos\n",
    "\n",
    "ipca = IncrementalPCA(n_components=3, batch_size=10) #batch_size crear bloques poco a poco en este caso 10\n",
    "ipca.fit(X_train)\n",
    "\n",
    "plt.plot(range(len(pca.explained_variance_)), pca.explained_variance_ratio_)\n",
    "plt.show()"
   ]
  },
  {
   "attachments": {},
   "cell_type": "markdown",
   "metadata": {},
   "source": [
    "Podemos deducir que las dos primeras variables son las que más nos están aportando más información."
   ]
  },
  {
   "cell_type": "code",
   "execution_count": 10,
   "metadata": {},
   "outputs": [],
   "source": [
    "logistic = LogisticRegression(solver='lbfgs') #regresión logística"
   ]
  },
  {
   "cell_type": "code",
   "execution_count": 15,
   "metadata": {},
   "outputs": [
    {
     "name": "stdout",
     "output_type": "stream",
     "text": [
      "SCORE PCA:  0.7857142857142857\n",
      "SCORE IPCA:  0.8051948051948052\n"
     ]
    }
   ],
   "source": [
    "dt_train = pca.transform(X_train)\n",
    "dt_test = pca.transform(X_test)\n",
    "logistic.fit(dt_train, y_train)\n",
    "print('SCORE PCA: ', logistic.score(dt_test, y_test))\n",
    "\n",
    "dt_train = ipca.transform(X_train)\n",
    "dt_test = ipca.transform(X_test)\n",
    "logistic.fit(dt_train, y_train)\n",
    "print(\"SCORE IPCA: \", logistic.score(dt_test, y_test))"
   ]
  },
  {
   "attachments": {},
   "cell_type": "markdown",
   "metadata": {},
   "source": [
    "Nos damos cuenta que su rendimiento es casi el mismo, logramos que el dataset tenía 13 features para intentar predecir una clasificación binaria (tiene enfermedad o no), utilizando PCA solo necesitamos 3 features artificiales para llegar a un resultado bueno, nos ahorramos coste computacional y solo utilizamos información que es realmente importante para nuestro modelo."
   ]
  },
  {
   "cell_type": "code",
   "execution_count": 16,
   "metadata": {},
   "outputs": [
    {
     "name": "stdout",
     "output_type": "stream",
     "text": [
      "   age  sex  cp  trestbps  chol  fbs  restecg  thalach  exang  oldpeak  slope  \\\n",
      "0   52    1   0       125   212    0        1      168      0      1.0      2   \n",
      "1   53    1   0       140   203    1        0      155      1      3.1      0   \n",
      "2   70    1   0       145   174    0        1      125      1      2.6      0   \n",
      "3   61    1   0       148   203    0        1      161      0      0.0      2   \n",
      "4   62    0   0       138   294    1        1      106      0      1.9      1   \n",
      "\n",
      "   ca  thal  target  \n",
      "0   2     3       0  \n",
      "1   0     3       0  \n",
      "2   0     3       0  \n",
      "3   1     3       0  \n",
      "4   3     2       0  \n"
     ]
    }
   ],
   "source": [
    "#algoritmo KERNELPCA\n",
    "#importamos las librerías\n",
    "import pandas as pd\n",
    "import sklearn\n",
    "import matplotlib.pyplot as plt\n",
    "\n",
    "\n",
    "#importamos módulos específicos\n",
    "from sklearn.decomposition import KernelPCA ##algoritmo PCA\n",
    "from sklearn.decomposition import IncrementalPCA \n",
    "\n",
    "\n",
    "#clasificador para hacer comparación de regresión logística\n",
    "\n",
    "from sklearn.linear_model import LogisticRegression\n",
    "\n",
    "from sklearn.preprocessing import StandardScaler ##escalador para normalizar los datos y dejarlos en la escala de 0 y 1\n",
    "\n",
    "from sklearn.model_selection import train_test_split\n",
    "\n",
    "if __name__ == \"__main__\":\n",
    "    dt_heart = pd.read_csv('./data/heart.csv')\n",
    "\n",
    "    print(dt_heart.head(5))\n",
    "\n",
    "    dt_features = dt_heart.drop(['target'], axis = 1) ## Sin la columna target para clasificar de última\n",
    "    dt_target = dt_heart['target']\n",
    "\n",
    "    dt_features = StandardScaler().fit_transform(dt_features) ##carga los datos y ajusta el modelo y aplica la transformación \n",
    "\n",
    "    X_train, X_test, y_train, y_test = train_test_split(dt_features, dt_target, test_size=0.3, random_state=42)\n"
   ]
  },
  {
   "cell_type": "code",
   "execution_count": 21,
   "metadata": {},
   "outputs": [
    {
     "name": "stdout",
     "output_type": "stream",
     "text": [
      "SCORE KPCA:  0.7987012987012987\n"
     ]
    }
   ],
   "source": [
    "kpca = KernelPCA(n_components=4, kernel='poly')\n",
    "kpca.fit(X_train)\n",
    "\n",
    "dt_train = kpca.transform(X_train)\n",
    "dt_test = kpca.transform(X_test)\n",
    "\n",
    "logistic = LogisticRegression(solver='lbfgs')\n",
    "\n",
    "logistic.fit(dt_train, y_train)\n",
    "print(\"SCORE KPCA: \", logistic.score(dt_test, y_test))\n",
    "\n"
   ]
  },
  {
   "cell_type": "code",
   "execution_count": null,
   "metadata": {},
   "outputs": [],
   "source": [
    "\n",
    "\n"
   ]
  }
 ],
 "metadata": {
  "kernelspec": {
   "display_name": "entorno",
   "language": "python",
   "name": "python3"
  },
  "language_info": {
   "codemirror_mode": {
    "name": "ipython",
    "version": 3
   },
   "file_extension": ".py",
   "mimetype": "text/x-python",
   "name": "python",
   "nbconvert_exporter": "python",
   "pygments_lexer": "ipython3",
   "version": "3.9.12 (main, Apr  5 2022, 01:52:34) \n[Clang 12.0.0 ]"
  },
  "orig_nbformat": 4,
  "vscode": {
   "interpreter": {
    "hash": "e527c03d49c291424015c6d7e8fd4bc009cf0fb2c252a907ad3b578920ef556b"
   }
  }
 },
 "nbformat": 4,
 "nbformat_minor": 2
}
